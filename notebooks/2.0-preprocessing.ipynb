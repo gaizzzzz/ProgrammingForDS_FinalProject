{
 "cells": [
  {
   "cell_type": "markdown",
   "metadata": {},
   "source": [
    "<div style=\"text-align: center; background-color: #559cff; font-family: 'Trebuchet MS', Arial, sans-serif; color: white; padding: 20px; font-size: 40px; font-weight: bold; border-radius: 0 0 0 0; box-shadow: 0px 6px 8px rgba(0, 0, 0, 0.2);\">\n",
    "  Final Project - Programming For Data Science @ FIT-HCMUS, VNU-HCM 📌\n",
    "</div>"
   ]
  },
  {
   "cell_type": "markdown",
   "metadata": {},
   "source": [
    "<div style=\"text-align: center; background-color: #b1d1ff; font-family: 'Trebuchet MS', Arial, sans-serif; color: white; padding: 20px; font-size: 40px; font-weight: bold; border-radius: 0 0 0 0; box-shadow: 0px 6px 8px rgba(0, 0, 0, 0.2);\">\n",
    "  Stage 02 - Preprocessing\n",
    "</div>"
   ]
  },
  {
   "cell_type": "markdown",
   "metadata": {},
   "source": [
    "## Import"
   ]
  },
  {
   "cell_type": "code",
   "execution_count": 130,
   "metadata": {},
   "outputs": [],
   "source": [
    "import os\n",
    "import sys\n",
    "\n",
    "module_path = os.path.abspath(os.path.join('..'))\n",
    "if module_path not in sys.path:\n",
    "    sys.path.append(module_path)\n",
    "\n",
    "import numpy as np\n",
    "import pandas as pd\n",
    "import matplotlib.pyplot as plt\n",
    "import seaborn as sns\n",
    "import datetime\n",
    "import re"
   ]
  },
  {
   "cell_type": "markdown",
   "metadata": {},
   "source": [
    "## Exploring Data"
   ]
  },
  {
   "cell_type": "markdown",
   "metadata": {},
   "source": [
    "### Read raw data from file"
   ]
  },
  {
   "cell_type": "code",
   "execution_count": 131,
   "metadata": {},
   "outputs": [],
   "source": [
    "raw_df = pd.read_csv('../data/raw/IMDbMovies.csv')"
   ]
  },
  {
   "cell_type": "code",
   "execution_count": 132,
   "metadata": {},
   "outputs": [
    {
     "data": {
      "text/html": [
       "<div>\n",
       "<style scoped>\n",
       "    .dataframe tbody tr th:only-of-type {\n",
       "        vertical-align: middle;\n",
       "    }\n",
       "\n",
       "    .dataframe tbody tr th {\n",
       "        vertical-align: top;\n",
       "    }\n",
       "\n",
       "    .dataframe thead th {\n",
       "        text-align: right;\n",
       "    }\n",
       "</style>\n",
       "<table border=\"1\" class=\"dataframe\">\n",
       "  <thead>\n",
       "    <tr style=\"text-align: right;\">\n",
       "      <th></th>\n",
       "      <th>Title</th>\n",
       "      <th>Summary</th>\n",
       "      <th>Director</th>\n",
       "      <th>Writer</th>\n",
       "      <th>Main Genres</th>\n",
       "      <th>Motion Picture Rating</th>\n",
       "      <th>Runtime</th>\n",
       "      <th>Release Year</th>\n",
       "      <th>Rating</th>\n",
       "      <th>Number of Ratings</th>\n",
       "      <th>Budget</th>\n",
       "      <th>Gross in US &amp; Canada</th>\n",
       "      <th>Gross worldwide</th>\n",
       "      <th>Opening Weekend Gross in US &amp; Canada</th>\n",
       "    </tr>\n",
       "  </thead>\n",
       "  <tbody>\n",
       "    <tr>\n",
       "      <th>0</th>\n",
       "      <td>Napoleon</td>\n",
       "      <td>An epic that details the checkered rise and fa...</td>\n",
       "      <td>Ridley Scott</td>\n",
       "      <td>David Scarpa</td>\n",
       "      <td>Action,Adventure,Biography</td>\n",
       "      <td>R</td>\n",
       "      <td>2h 38m</td>\n",
       "      <td>2023.0</td>\n",
       "      <td>6.7/10</td>\n",
       "      <td>38K</td>\n",
       "      <td>NaN</td>\n",
       "      <td>$37,514,498</td>\n",
       "      <td>$84,968,381</td>\n",
       "      <td>$20,638,887Nov 26, 2023</td>\n",
       "    </tr>\n",
       "    <tr>\n",
       "      <th>1</th>\n",
       "      <td>The Hunger Games: The Ballad of Songbirds &amp; Sn...</td>\n",
       "      <td>Coriolanus Snow mentors and develops feelings ...</td>\n",
       "      <td>Francis Lawrence</td>\n",
       "      <td>Michael Lesslie,Michael Arndt,Suzanne Collins</td>\n",
       "      <td>Action,Adventure,Drama</td>\n",
       "      <td>PG-13</td>\n",
       "      <td>2h 37m</td>\n",
       "      <td>2023.0</td>\n",
       "      <td>7.2/10</td>\n",
       "      <td>37K</td>\n",
       "      <td>$100,000,000 (estimated)</td>\n",
       "      <td>$105,043,414</td>\n",
       "      <td>$191,729,235</td>\n",
       "      <td>$44,607,143Nov 19, 2023</td>\n",
       "    </tr>\n",
       "    <tr>\n",
       "      <th>2</th>\n",
       "      <td>The Killer</td>\n",
       "      <td>After a fateful near-miss, an assassin battles...</td>\n",
       "      <td>David Fincher</td>\n",
       "      <td>Andrew Kevin Walker,Luc Jacamon,Alexis Nolent</td>\n",
       "      <td>Action,Adventure,Crime</td>\n",
       "      <td>R</td>\n",
       "      <td>1h 58m</td>\n",
       "      <td>2023.0</td>\n",
       "      <td>6.8/10</td>\n",
       "      <td>117K</td>\n",
       "      <td>NaN</td>\n",
       "      <td>NaN</td>\n",
       "      <td>$421,332</td>\n",
       "      <td>NaN</td>\n",
       "    </tr>\n",
       "    <tr>\n",
       "      <th>3</th>\n",
       "      <td>Leo</td>\n",
       "      <td>A 74-year-old lizard named Leo and his turtle ...</td>\n",
       "      <td>David Wachtenheim,Robert Smigel,Robert Marianetti</td>\n",
       "      <td>Paul Sado,Robert Smigel,Adam Sandler</td>\n",
       "      <td>Animation,Comedy,Family</td>\n",
       "      <td>PG</td>\n",
       "      <td>1h 42m</td>\n",
       "      <td>2023.0</td>\n",
       "      <td>7.0/10</td>\n",
       "      <td>10K</td>\n",
       "      <td>NaN</td>\n",
       "      <td>NaN</td>\n",
       "      <td>NaN</td>\n",
       "      <td>NaN</td>\n",
       "    </tr>\n",
       "    <tr>\n",
       "      <th>4</th>\n",
       "      <td>Thanksgiving</td>\n",
       "      <td>After a Black Friday riot ends in tragedy, a m...</td>\n",
       "      <td>Eli Roth</td>\n",
       "      <td>Eli Roth,Jeff Rendell</td>\n",
       "      <td>Horror,Mystery,Thriller</td>\n",
       "      <td>R</td>\n",
       "      <td>1h 46m</td>\n",
       "      <td>2023.0</td>\n",
       "      <td>7.0/10</td>\n",
       "      <td>9.1K</td>\n",
       "      <td>NaN</td>\n",
       "      <td>$25,408,677</td>\n",
       "      <td>$29,666,585</td>\n",
       "      <td>$10,306,272Nov 19, 2023</td>\n",
       "    </tr>\n",
       "  </tbody>\n",
       "</table>\n",
       "</div>"
      ],
      "text/plain": [
       "                                               Title  \\\n",
       "0                                           Napoleon   \n",
       "1  The Hunger Games: The Ballad of Songbirds & Sn...   \n",
       "2                                         The Killer   \n",
       "3                                                Leo   \n",
       "4                                       Thanksgiving   \n",
       "\n",
       "                                             Summary  \\\n",
       "0  An epic that details the checkered rise and fa...   \n",
       "1  Coriolanus Snow mentors and develops feelings ...   \n",
       "2  After a fateful near-miss, an assassin battles...   \n",
       "3  A 74-year-old lizard named Leo and his turtle ...   \n",
       "4  After a Black Friday riot ends in tragedy, a m...   \n",
       "\n",
       "                                            Director  \\\n",
       "0                                       Ridley Scott   \n",
       "1                                   Francis Lawrence   \n",
       "2                                      David Fincher   \n",
       "3  David Wachtenheim,Robert Smigel,Robert Marianetti   \n",
       "4                                           Eli Roth   \n",
       "\n",
       "                                          Writer                 Main Genres  \\\n",
       "0                                   David Scarpa  Action,Adventure,Biography   \n",
       "1  Michael Lesslie,Michael Arndt,Suzanne Collins      Action,Adventure,Drama   \n",
       "2  Andrew Kevin Walker,Luc Jacamon,Alexis Nolent      Action,Adventure,Crime   \n",
       "3           Paul Sado,Robert Smigel,Adam Sandler     Animation,Comedy,Family   \n",
       "4                          Eli Roth,Jeff Rendell     Horror,Mystery,Thriller   \n",
       "\n",
       "  Motion Picture Rating Runtime  Release Year  Rating Number of Ratings  \\\n",
       "0                     R  2h 38m        2023.0  6.7/10               38K   \n",
       "1                 PG-13  2h 37m        2023.0  7.2/10               37K   \n",
       "2                     R  1h 58m        2023.0  6.8/10              117K   \n",
       "3                    PG  1h 42m        2023.0  7.0/10               10K   \n",
       "4                     R  1h 46m        2023.0  7.0/10              9.1K   \n",
       "\n",
       "                     Budget Gross in US & Canada Gross worldwide  \\\n",
       "0                       NaN         $37,514,498     $84,968,381    \n",
       "1  $100,000,000 (estimated)        $105,043,414    $191,729,235    \n",
       "2                       NaN                  NaN       $421,332    \n",
       "3                       NaN                  NaN             NaN   \n",
       "4                       NaN         $25,408,677     $29,666,585    \n",
       "\n",
       "  Opening Weekend Gross in US & Canada  \n",
       "0              $20,638,887Nov 26, 2023  \n",
       "1              $44,607,143Nov 19, 2023  \n",
       "2                                  NaN  \n",
       "3                                  NaN  \n",
       "4              $10,306,272Nov 19, 2023  "
      ]
     },
     "execution_count": 132,
     "metadata": {},
     "output_type": "execute_result"
    }
   ],
   "source": [
    "# TEST\n",
    "raw_df.head()"
   ]
  },
  {
   "cell_type": "markdown",
   "metadata": {},
   "source": [
    "### How many rows and how many columns does the raw data have?"
   ]
  },
  {
   "cell_type": "markdown",
   "metadata": {},
   "source": [
    "Next, I calculate the number of rows and columns of the DataFrame `raw_df` and store it in the variable `shape` (tuple). **If my data has the number of rows smaller than 1000, please crawl the data once again with larger year interval**."
   ]
  },
  {
   "cell_type": "code",
   "execution_count": 133,
   "metadata": {},
   "outputs": [],
   "source": [
    "shape = raw_df.shape "
   ]
  },
  {
   "cell_type": "code",
   "execution_count": 134,
   "metadata": {},
   "outputs": [
    {
     "name": "stdout",
     "output_type": "stream",
     "text": [
      "Current shape: (9083, 14)\n",
      "Your data good!.\n"
     ]
    }
   ],
   "source": [
    "# TEST\n",
    "print(f\"Current shape: {shape}\")\n",
    "\n",
    "if shape[0] > 1000:\n",
    "    print(f\"Your data good!.\")\n",
    "else:\n",
    "    print(f\"Your raw data absolutely small. Please choose larger year interval.!\")"
   ]
  },
  {
   "cell_type": "markdown",
   "metadata": {},
   "source": [
    "### What does each row mean?"
   ]
  },
  {
   "cell_type": "markdown",
   "metadata": {},
   "source": [
    "\n",
    "Each row indicates the values ​​corresponding to eachcolumn.n"
   ]
  },
  {
   "cell_type": "markdown",
   "metadata": {},
   "source": [
    "### Does the raw data have duplicate rows?"
   ]
  },
  {
   "cell_type": "markdown",
   "metadata": {},
   "source": [
    "Next, I calculate the number of rows with duplicate indexes and store it in the variable `num_duplicated_rows`. In a group of lines with the same index, the first line is not counted as repeated."
   ]
  },
  {
   "cell_type": "code",
   "execution_count": 135,
   "metadata": {},
   "outputs": [],
   "source": [
    "duplicated_df = raw_df[raw_df.duplicated()]\n",
    "num_duplicated_rows = duplicated_df.shape[0]"
   ]
  },
  {
   "cell_type": "code",
   "execution_count": 136,
   "metadata": {},
   "outputs": [
    {
     "name": "stdout",
     "output_type": "stream",
     "text": [
      "Raw data has no duplicated line.!\n"
     ]
    }
   ],
   "source": [
    "# TEST\n",
    "if num_duplicated_rows == 0:\n",
    "    print(f\"Raw data has no duplicated line.!\")\n",
    "else:\n",
    "    if num_duplicated_rows > 1:\n",
    "        ext = \"lines\"\n",
    "    else:\n",
    "        ext = \"line\"\n",
    "    print(f\"Raw data has {num_duplicated_rows} duplicated \" + ext + \". Please de-deduplicate raw data.!\")"
   ]
  },
  {
   "cell_type": "code",
   "execution_count": 137,
   "metadata": {},
   "outputs": [
    {
     "data": {
      "text/html": [
       "<div>\n",
       "<style scoped>\n",
       "    .dataframe tbody tr th:only-of-type {\n",
       "        vertical-align: middle;\n",
       "    }\n",
       "\n",
       "    .dataframe tbody tr th {\n",
       "        vertical-align: top;\n",
       "    }\n",
       "\n",
       "    .dataframe thead th {\n",
       "        text-align: right;\n",
       "    }\n",
       "</style>\n",
       "<table border=\"1\" class=\"dataframe\">\n",
       "  <thead>\n",
       "    <tr style=\"text-align: right;\">\n",
       "      <th></th>\n",
       "      <th>Title</th>\n",
       "      <th>Summary</th>\n",
       "      <th>Director</th>\n",
       "      <th>Writer</th>\n",
       "      <th>Main Genres</th>\n",
       "      <th>Motion Picture Rating</th>\n",
       "      <th>Runtime</th>\n",
       "      <th>Release Year</th>\n",
       "      <th>Rating</th>\n",
       "      <th>Number of Ratings</th>\n",
       "      <th>Budget</th>\n",
       "      <th>Gross in US &amp; Canada</th>\n",
       "      <th>Gross worldwide</th>\n",
       "      <th>Opening Weekend Gross in US &amp; Canada</th>\n",
       "    </tr>\n",
       "  </thead>\n",
       "  <tbody>\n",
       "    <tr>\n",
       "      <th>0</th>\n",
       "      <td>Napoleon</td>\n",
       "      <td>An epic that details the checkered rise and fa...</td>\n",
       "      <td>Ridley Scott</td>\n",
       "      <td>David Scarpa</td>\n",
       "      <td>Action,Adventure,Biography</td>\n",
       "      <td>R</td>\n",
       "      <td>2h 38m</td>\n",
       "      <td>2023.0</td>\n",
       "      <td>6.7/10</td>\n",
       "      <td>38K</td>\n",
       "      <td>NaN</td>\n",
       "      <td>$37,514,498</td>\n",
       "      <td>$84,968,381</td>\n",
       "      <td>$20,638,887Nov 26, 2023</td>\n",
       "    </tr>\n",
       "    <tr>\n",
       "      <th>1</th>\n",
       "      <td>The Hunger Games: The Ballad of Songbirds &amp; Sn...</td>\n",
       "      <td>Coriolanus Snow mentors and develops feelings ...</td>\n",
       "      <td>Francis Lawrence</td>\n",
       "      <td>Michael Lesslie,Michael Arndt,Suzanne Collins</td>\n",
       "      <td>Action,Adventure,Drama</td>\n",
       "      <td>PG-13</td>\n",
       "      <td>2h 37m</td>\n",
       "      <td>2023.0</td>\n",
       "      <td>7.2/10</td>\n",
       "      <td>37K</td>\n",
       "      <td>$100,000,000 (estimated)</td>\n",
       "      <td>$105,043,414</td>\n",
       "      <td>$191,729,235</td>\n",
       "      <td>$44,607,143Nov 19, 2023</td>\n",
       "    </tr>\n",
       "    <tr>\n",
       "      <th>2</th>\n",
       "      <td>The Killer</td>\n",
       "      <td>After a fateful near-miss, an assassin battles...</td>\n",
       "      <td>David Fincher</td>\n",
       "      <td>Andrew Kevin Walker,Luc Jacamon,Alexis Nolent</td>\n",
       "      <td>Action,Adventure,Crime</td>\n",
       "      <td>R</td>\n",
       "      <td>1h 58m</td>\n",
       "      <td>2023.0</td>\n",
       "      <td>6.8/10</td>\n",
       "      <td>117K</td>\n",
       "      <td>NaN</td>\n",
       "      <td>NaN</td>\n",
       "      <td>$421,332</td>\n",
       "      <td>NaN</td>\n",
       "    </tr>\n",
       "    <tr>\n",
       "      <th>3</th>\n",
       "      <td>Leo</td>\n",
       "      <td>A 74-year-old lizard named Leo and his turtle ...</td>\n",
       "      <td>David Wachtenheim,Robert Smigel,Robert Marianetti</td>\n",
       "      <td>Paul Sado,Robert Smigel,Adam Sandler</td>\n",
       "      <td>Animation,Comedy,Family</td>\n",
       "      <td>PG</td>\n",
       "      <td>1h 42m</td>\n",
       "      <td>2023.0</td>\n",
       "      <td>7.0/10</td>\n",
       "      <td>10K</td>\n",
       "      <td>NaN</td>\n",
       "      <td>NaN</td>\n",
       "      <td>NaN</td>\n",
       "      <td>NaN</td>\n",
       "    </tr>\n",
       "    <tr>\n",
       "      <th>4</th>\n",
       "      <td>Thanksgiving</td>\n",
       "      <td>After a Black Friday riot ends in tragedy, a m...</td>\n",
       "      <td>Eli Roth</td>\n",
       "      <td>Eli Roth,Jeff Rendell</td>\n",
       "      <td>Horror,Mystery,Thriller</td>\n",
       "      <td>R</td>\n",
       "      <td>1h 46m</td>\n",
       "      <td>2023.0</td>\n",
       "      <td>7.0/10</td>\n",
       "      <td>9.1K</td>\n",
       "      <td>NaN</td>\n",
       "      <td>$25,408,677</td>\n",
       "      <td>$29,666,585</td>\n",
       "      <td>$10,306,272Nov 19, 2023</td>\n",
       "    </tr>\n",
       "  </tbody>\n",
       "</table>\n",
       "</div>"
      ],
      "text/plain": [
       "                                               Title  \\\n",
       "0                                           Napoleon   \n",
       "1  The Hunger Games: The Ballad of Songbirds & Sn...   \n",
       "2                                         The Killer   \n",
       "3                                                Leo   \n",
       "4                                       Thanksgiving   \n",
       "\n",
       "                                             Summary  \\\n",
       "0  An epic that details the checkered rise and fa...   \n",
       "1  Coriolanus Snow mentors and develops feelings ...   \n",
       "2  After a fateful near-miss, an assassin battles...   \n",
       "3  A 74-year-old lizard named Leo and his turtle ...   \n",
       "4  After a Black Friday riot ends in tragedy, a m...   \n",
       "\n",
       "                                            Director  \\\n",
       "0                                       Ridley Scott   \n",
       "1                                   Francis Lawrence   \n",
       "2                                      David Fincher   \n",
       "3  David Wachtenheim,Robert Smigel,Robert Marianetti   \n",
       "4                                           Eli Roth   \n",
       "\n",
       "                                          Writer                 Main Genres  \\\n",
       "0                                   David Scarpa  Action,Adventure,Biography   \n",
       "1  Michael Lesslie,Michael Arndt,Suzanne Collins      Action,Adventure,Drama   \n",
       "2  Andrew Kevin Walker,Luc Jacamon,Alexis Nolent      Action,Adventure,Crime   \n",
       "3           Paul Sado,Robert Smigel,Adam Sandler     Animation,Comedy,Family   \n",
       "4                          Eli Roth,Jeff Rendell     Horror,Mystery,Thriller   \n",
       "\n",
       "  Motion Picture Rating Runtime  Release Year  Rating Number of Ratings  \\\n",
       "0                     R  2h 38m        2023.0  6.7/10               38K   \n",
       "1                 PG-13  2h 37m        2023.0  7.2/10               37K   \n",
       "2                     R  1h 58m        2023.0  6.8/10              117K   \n",
       "3                    PG  1h 42m        2023.0  7.0/10               10K   \n",
       "4                     R  1h 46m        2023.0  7.0/10              9.1K   \n",
       "\n",
       "                     Budget Gross in US & Canada Gross worldwide  \\\n",
       "0                       NaN         $37,514,498     $84,968,381    \n",
       "1  $100,000,000 (estimated)        $105,043,414    $191,729,235    \n",
       "2                       NaN                  NaN       $421,332    \n",
       "3                       NaN                  NaN             NaN   \n",
       "4                       NaN         $25,408,677     $29,666,585    \n",
       "\n",
       "  Opening Weekend Gross in US & Canada  \n",
       "0              $20,638,887Nov 26, 2023  \n",
       "1              $44,607,143Nov 19, 2023  \n",
       "2                                  NaN  \n",
       "3                                  NaN  \n",
       "4              $10,306,272Nov 19, 2023  "
      ]
     },
     "execution_count": 137,
     "metadata": {},
     "output_type": "execute_result"
    }
   ],
   "source": [
    "# De-deduplicate raw data\n",
    "raw_df = raw_df.drop_duplicates()\n",
    "raw_df.head()"
   ]
  },
  {
   "cell_type": "markdown",
   "metadata": {},
   "source": [
    "### What does each column mean?"
   ]
  },
  {
   "cell_type": "markdown",
   "metadata": {},
   "source": [
    "I don't have the meaning of each column available, so I will parse it from `kaggle`. "
   ]
  },
  {
   "cell_type": "code",
   "execution_count": 138,
   "metadata": {},
   "outputs": [
    {
     "data": {
      "text/html": [
       "<div>\n",
       "<style scoped>\n",
       "    .dataframe tbody tr th:only-of-type {\n",
       "        vertical-align: middle;\n",
       "    }\n",
       "\n",
       "    .dataframe tbody tr th {\n",
       "        vertical-align: top;\n",
       "    }\n",
       "\n",
       "    .dataframe thead th {\n",
       "        text-align: right;\n",
       "    }\n",
       "</style>\n",
       "<table border=\"1\" class=\"dataframe\">\n",
       "  <thead>\n",
       "    <tr style=\"text-align: right;\">\n",
       "      <th></th>\n",
       "      <th>Feature</th>\n",
       "      <th>Description</th>\n",
       "    </tr>\n",
       "  </thead>\n",
       "  <tbody>\n",
       "    <tr>\n",
       "      <th>0</th>\n",
       "      <td>Title</td>\n",
       "      <td>The name of the movie.</td>\n",
       "    </tr>\n",
       "    <tr>\n",
       "      <th>1</th>\n",
       "      <td>Summary</td>\n",
       "      <td>A brief overview of the movie's plot.</td>\n",
       "    </tr>\n",
       "    <tr>\n",
       "      <th>2</th>\n",
       "      <td>Director</td>\n",
       "      <td>The person responsible for overseeing the crea...</td>\n",
       "    </tr>\n",
       "    <tr>\n",
       "      <th>3</th>\n",
       "      <td>Writer</td>\n",
       "      <td>The individual who crafted the screenplay and ...</td>\n",
       "    </tr>\n",
       "    <tr>\n",
       "      <th>4</th>\n",
       "      <td>Main Genres</td>\n",
       "      <td>The primary categories or styles that the movi...</td>\n",
       "    </tr>\n",
       "    <tr>\n",
       "      <th>5</th>\n",
       "      <td>Motion Picture Rating</td>\n",
       "      <td>The age-appropriate classification for viewers...</td>\n",
       "    </tr>\n",
       "    <tr>\n",
       "      <th>6</th>\n",
       "      <td>Runtime</td>\n",
       "      <td>The total duration of the movie.</td>\n",
       "    </tr>\n",
       "    <tr>\n",
       "      <th>7</th>\n",
       "      <td>Release Year</td>\n",
       "      <td>The year in which the movie was officially rel...</td>\n",
       "    </tr>\n",
       "    <tr>\n",
       "      <th>8</th>\n",
       "      <td>Rating</td>\n",
       "      <td>The average score given to the movie by viewers.</td>\n",
       "    </tr>\n",
       "    <tr>\n",
       "      <th>9</th>\n",
       "      <td>Number of Ratings</td>\n",
       "      <td>The total count of ratings submitted by viewers.</td>\n",
       "    </tr>\n",
       "    <tr>\n",
       "      <th>10</th>\n",
       "      <td>Budget</td>\n",
       "      <td>The estimated cost of producing the movie.</td>\n",
       "    </tr>\n",
       "    <tr>\n",
       "      <th>11</th>\n",
       "      <td>Gross in US &amp; Canada</td>\n",
       "      <td>The total earnings from the movie's screening ...</td>\n",
       "    </tr>\n",
       "    <tr>\n",
       "      <th>12</th>\n",
       "      <td>Gross worldwide</td>\n",
       "      <td>The overall worldwide earnings of the movie.</td>\n",
       "    </tr>\n",
       "    <tr>\n",
       "      <th>13</th>\n",
       "      <td>Opening Weekend Gross in US &amp; Canada</td>\n",
       "      <td>The amount generated during the initial weeken...</td>\n",
       "    </tr>\n",
       "  </tbody>\n",
       "</table>\n",
       "</div>"
      ],
      "text/plain": [
       "                                 Feature  \\\n",
       "0                                  Title   \n",
       "1                                Summary   \n",
       "2                               Director   \n",
       "3                                 Writer   \n",
       "4                            Main Genres   \n",
       "5                  Motion Picture Rating   \n",
       "6                                Runtime   \n",
       "7                           Release Year   \n",
       "8                                 Rating   \n",
       "9                      Number of Ratings   \n",
       "10                                Budget   \n",
       "11                  Gross in US & Canada   \n",
       "12                       Gross worldwide   \n",
       "13  Opening Weekend Gross in US & Canada   \n",
       "\n",
       "                                          Description  \n",
       "0                              The name of the movie.  \n",
       "1               A brief overview of the movie's plot.  \n",
       "2   The person responsible for overseeing the crea...  \n",
       "3   The individual who crafted the screenplay and ...  \n",
       "4   The primary categories or styles that the movi...  \n",
       "5   The age-appropriate classification for viewers...  \n",
       "6                    The total duration of the movie.  \n",
       "7   The year in which the movie was officially rel...  \n",
       "8    The average score given to the movie by viewers.  \n",
       "9    The total count of ratings submitted by viewers.  \n",
       "10         The estimated cost of producing the movie.  \n",
       "11  The total earnings from the movie's screening ...  \n",
       "12       The overall worldwide earnings of the movie.  \n",
       "13  The amount generated during the initial weeken...  "
      ]
     },
     "execution_count": 138,
     "metadata": {},
     "output_type": "execute_result"
    }
   ],
   "source": [
    "import requests as req\n",
    "from bs4 import BeautifulSoup\n",
    "\n",
    "features = raw_df.columns.values.tolist()\n",
    "descriptions = []\n",
    "\n",
    "url = 'https://www.kaggle.com/datasets/elvinrustam/imdb-movies-dataset'\n",
    "response = req.get(url)\n",
    "soup = BeautifulSoup(response.text, 'html.parser')\n",
    "needed_text = str(soup.find_all('script', type = \"application/ld+json\")[0])\n",
    "needed_text = needed_text.split('\\\\n\\\\n')\n",
    "\n",
    "for feature in features:\n",
    "    for item in needed_text:\n",
    "        item = item.replace('amp;', '')\n",
    "        if f'**{feature}:**' in item:\n",
    "            values = item.replace('**', '').split(':')\n",
    "\n",
    "            desc = values[1].strip()\n",
    "            if feature == 'Motion Picture Rating':\n",
    "                idx = needed_text.index(item)\n",
    "                categories = needed_text[(idx + 2) : (idx + 7)]\n",
    "                \n",
    "                for cate in categories:\n",
    "                    cate = cate.strip().replace('**', '')\n",
    "                    desc += '\\n' + cate\n",
    "                    \n",
    "            descriptions.append(desc)\n",
    "            break\n",
    "meaning_col = pd.DataFrame(list(dict(zip(features, descriptions)).items()), columns = ['Feature', 'Description'])\n",
    "meaning_col"
   ]
  },
  {
   "cell_type": "markdown",
   "metadata": {},
   "source": [
    "### What data type does each column currently have? Are there any columns whose data types are not suitable for further processing?"
   ]
  },
  {
   "cell_type": "markdown",
   "metadata": {},
   "source": [
    "In this step, I calculate the data type (dtype) of each column in DataFrame `raw_df` and save the result into Series `dtypes` (This Series has the index as the column name)."
   ]
  },
  {
   "cell_type": "code",
   "execution_count": 139,
   "metadata": {},
   "outputs": [],
   "source": [
    "dtypes = raw_df.dtypes"
   ]
  },
  {
   "cell_type": "code",
   "execution_count": 140,
   "metadata": {},
   "outputs": [
    {
     "data": {
      "text/plain": [
       "Title                                    object\n",
       "Summary                                  object\n",
       "Director                                 object\n",
       "Writer                                   object\n",
       "Main Genres                              object\n",
       "Motion Picture Rating                    object\n",
       "Runtime                                  object\n",
       "Release Year                            float64\n",
       "Rating                                   object\n",
       "Number of Ratings                        object\n",
       "Budget                                   object\n",
       "Gross in US & Canada                     object\n",
       "Gross worldwide                          object\n",
       "Opening Weekend Gross in US & Canada     object\n",
       "dtype: object"
      ]
     },
     "execution_count": 140,
     "metadata": {},
     "output_type": "execute_result"
    }
   ],
   "source": [
    "# TEST\n",
    "dtypes"
   ]
  },
  {
   "cell_type": "markdown",
   "metadata": {},
   "source": [
    "We observe that some columns have unsuitable data types or special presentations such as `Runtime`, `Release Year`, `Rating`, etc. Therefore, we should convert them and normalize some columns with special presentations. Columns have to convert:\n",
    "- `Runtime` : numeric (minutes)\n",
    "- `Release Year` : int64\n",
    "- `Rating`, `Number of Ratings`, `Budget`, `Gross in US & Canada`, `Gross worldwide`, `Opening Weekend Gross in US & Canada` : numeric"
   ]
  },
  {
   "cell_type": "markdown",
   "metadata": {},
   "source": [
    "#### Convert `Runtime` column"
   ]
  },
  {
   "cell_type": "code",
   "execution_count": 141,
   "metadata": {},
   "outputs": [
    {
     "data": {
      "text/plain": [
       "0       158.0\n",
       "1       157.0\n",
       "2       118.0\n",
       "3       102.0\n",
       "4       106.0\n",
       "        ...  \n",
       "9078     95.0\n",
       "9079     98.0\n",
       "9080    152.0\n",
       "9081    152.0\n",
       "9082    157.0\n",
       "Name: Runtime (Minutes), Length: 9083, dtype: float64"
      ]
     },
     "execution_count": 141,
     "metadata": {},
     "output_type": "execute_result"
    }
   ],
   "source": [
    "def convertRuntime(inp):\n",
    "    if inp is np.nan:\n",
    "        return inp\n",
    "    hour = 0\n",
    "    min = 0\n",
    "    for item in inp.split(' '):\n",
    "        if 'h' in item:\n",
    "            hour = int(item[:-1])\n",
    "        elif 'm' in item:\n",
    "            min = int(item[:-1])\n",
    "    return hour * 60 + min\n",
    "    \n",
    "raw_df['Runtime'] = raw_df['Runtime'].apply(convertRuntime)\n",
    "raw_df.rename(columns = {'Runtime' : 'Runtime (Minutes)'}, inplace = True)\n",
    "raw_df['Runtime (Minutes)']"
   ]
  },
  {
   "cell_type": "markdown",
   "metadata": {},
   "source": [
    "#### Convert `Release Year` column"
   ]
  },
  {
   "cell_type": "code",
   "execution_count": 142,
   "metadata": {},
   "outputs": [
    {
     "data": {
      "text/plain": [
       "0       2023.0\n",
       "1       2023.0\n",
       "2       2023.0\n",
       "3       2023.0\n",
       "4       2023.0\n",
       "         ...  \n",
       "9078    2020.0\n",
       "9079    2003.0\n",
       "9080    1952.0\n",
       "9081    1952.0\n",
       "9082    2011.0\n",
       "Name: Release Year, Length: 9083, dtype: object"
      ]
     },
     "execution_count": 142,
     "metadata": {},
     "output_type": "execute_result"
    }
   ],
   "source": [
    "raw_df['Release Year'] = raw_df['Release Year'].astype('str')\n",
    "raw_df['Release Year']"
   ]
  },
  {
   "cell_type": "markdown",
   "metadata": {},
   "source": [
    "#### Convert `Ratings` and `Number of Ratings` columns"
   ]
  },
  {
   "cell_type": "code",
   "execution_count": 143,
   "metadata": {},
   "outputs": [
    {
     "data": {
      "text/plain": [
       "0       6.7\n",
       "1       7.2\n",
       "2       6.8\n",
       "3       7.0\n",
       "4       7.0\n",
       "       ... \n",
       "9078    6.3\n",
       "9079    6.4\n",
       "9080    6.5\n",
       "9081    NaN\n",
       "9082    7.8\n",
       "Name: Rating (Out of 10), Length: 9083, dtype: float64"
      ]
     },
     "execution_count": 143,
     "metadata": {},
     "output_type": "execute_result"
    }
   ],
   "source": [
    "raw_df['Rating'] = raw_df['Rating'].apply(lambda x: None if x is np.nan else float(x[:-3]))\n",
    "raw_df.rename(columns = {'Rating' : 'Rating (Out of 10)'}, inplace = True)\n",
    "raw_df['Rating (Out of 10)']"
   ]
  },
  {
   "cell_type": "code",
   "execution_count": 144,
   "metadata": {},
   "outputs": [
    {
     "data": {
      "text/plain": [
       "0        38.0\n",
       "1        37.0\n",
       "2       117.0\n",
       "3        10.0\n",
       "4         9.1\n",
       "        ...  \n",
       "9078     24.0\n",
       "9079     15.0\n",
       "9080     16.0\n",
       "9081      NaN\n",
       "9082     49.0\n",
       "Name: Number of Ratings (in thousands), Length: 9083, dtype: float64"
      ]
     },
     "execution_count": 144,
     "metadata": {},
     "output_type": "execute_result"
    }
   ],
   "source": [
    "raw_df['Number of Ratings'] = raw_df['Number of Ratings'].apply(lambda x: float(x.replace('K', ''))\n",
    "                                                                if pd.notna(x) and 'K' in x else\n",
    "                                                                float(x.replace('M', '')) * 1000\n",
    "                                                                if pd.notna(x) and 'M' in x else \n",
    "                                                                pd.to_numeric(x, errors = 'coerce'))\n",
    "raw_df.rename(columns = {'Number of Ratings' : 'Number of Ratings (in thousands)'}, inplace = True)\n",
    "raw_df['Number of Ratings (in thousands)']"
   ]
  },
  {
   "cell_type": "markdown",
   "metadata": {},
   "source": [
    "#### Convert Columns of Currency Unit"
   ]
  },
  {
   "cell_type": "markdown",
   "metadata": {},
   "source": [
    "Notes that column `Opening Weekend Gross in US & Canada` has both `Currency` and `Datetime` in each value. Therefore, we should remove the `Datetime` part because it's not important, and keep the `Currency` sequence to convert."
   ]
  },
  {
   "cell_type": "code",
   "execution_count": 145,
   "metadata": {},
   "outputs": [],
   "source": [
    "def convertCurrency(inp):\n",
    "    if inp is np.nan:\n",
    "        return None\n",
    "    inp = inp.replace(',', '')\n",
    "    return pd.to_numeric(re.search(r'\\d+', inp).group()) / 1000000\n",
    "    \n",
    "raw_df['Budget (in milions)'] = raw_df['Budget'].apply(convertCurrency)\n",
    "raw_df['Gross in US & Canada (in milions)'] = raw_df['Gross in US & Canada'].apply(convertCurrency)\n",
    "raw_df['Gross worldwide (in milions)'] = raw_df['Gross worldwide'].apply(convertCurrency)\n",
    "raw_df['Opening Weekend Gross in US & Canada (in milions)'] = raw_df['Opening Weekend Gross in US & Canada'].apply(convertCurrency)\n",
    "raw_df = raw_df.drop(columns = ['Budget', 'Gross in US & Canada', 'Gross worldwide', 'Opening Weekend Gross in US & Canada'], axis = 1)"
   ]
  },
  {
   "cell_type": "code",
   "execution_count": 146,
   "metadata": {},
   "outputs": [
    {
     "data": {
      "text/plain": [
       "Title                                                 object\n",
       "Summary                                               object\n",
       "Director                                              object\n",
       "Writer                                                object\n",
       "Main Genres                                           object\n",
       "Motion Picture Rating                                 object\n",
       "Runtime (Minutes)                                    float64\n",
       "Release Year                                          object\n",
       "Rating (Out of 10)                                   float64\n",
       "Number of Ratings (in thousands)                     float64\n",
       "Budget (in milions)                                  float64\n",
       "Gross in US & Canada (in milions)                    float64\n",
       "Gross worldwide (in milions)                         float64\n",
       "Opening Weekend Gross in US & Canada (in milions)    float64\n",
       "dtype: object"
      ]
     },
     "execution_count": 146,
     "metadata": {},
     "output_type": "execute_result"
    }
   ],
   "source": [
    "# Result after converting\n",
    "raw_df.dtypes"
   ]
  },
  {
   "cell_type": "code",
   "execution_count": 147,
   "metadata": {},
   "outputs": [],
   "source": [
    "# TEST\n",
    "dtypes = raw_df.dtypes\n",
    "float_cols = set(dtypes[(dtypes==np.float32) | (dtypes==np.float64)].index)\n",
    "assert len(float_cols) == 7\n",
    "object_cols = set(dtypes[dtypes == object].index)\n",
    "assert len(object_cols) == 7"
   ]
  },
  {
   "cell_type": "markdown",
   "metadata": {},
   "source": [
    "### For each column with numeric data type, how are the values distributed?"
   ]
  },
  {
   "cell_type": "markdown",
   "metadata": {},
   "source": [
    "For columns with numeric data types, I will calculate:\n",
    "- Percentage of missing values\n",
    "- The min\n",
    "- The lower quartile\n",
    "- The median\n",
    "- The upper quartile\n",
    "- The max\n",
    "\n",
    "I will save the results to a DataFrame `num_col_info_df`, where:\n",
    "- The names of the columns are the names of the numeric columns in `raw_df`\n",
    "- Names of rows: \"missing_ratio\", \"min\", \"lower_quartile\", \"median\", \"upper_quartile\", \"max\"  \n",
    "\n",
    "For ease of viewing, I round all values to 1 decimal place using the `.round(1)` method."
   ]
  },
  {
   "cell_type": "code",
   "execution_count": 148,
   "metadata": {},
   "outputs": [
    {
     "data": {
      "text/html": [
       "<div>\n",
       "<style scoped>\n",
       "    .dataframe tbody tr th:only-of-type {\n",
       "        vertical-align: middle;\n",
       "    }\n",
       "\n",
       "    .dataframe tbody tr th {\n",
       "        vertical-align: top;\n",
       "    }\n",
       "\n",
       "    .dataframe thead th {\n",
       "        text-align: right;\n",
       "    }\n",
       "</style>\n",
       "<table border=\"1\" class=\"dataframe\">\n",
       "  <thead>\n",
       "    <tr style=\"text-align: right;\">\n",
       "      <th></th>\n",
       "      <th>Runtime (Minutes)</th>\n",
       "      <th>Rating (Out of 10)</th>\n",
       "      <th>Number of Ratings (in thousands)</th>\n",
       "      <th>Budget (in milions)</th>\n",
       "      <th>Gross in US &amp; Canada (in milions)</th>\n",
       "      <th>Gross worldwide (in milions)</th>\n",
       "      <th>Opening Weekend Gross in US &amp; Canada (in milions)</th>\n",
       "    </tr>\n",
       "  </thead>\n",
       "  <tbody>\n",
       "    <tr>\n",
       "      <th>missing_ratio</th>\n",
       "      <td>1.8</td>\n",
       "      <td>3.0</td>\n",
       "      <td>3.0</td>\n",
       "      <td>35.30000</td>\n",
       "      <td>33.200000</td>\n",
       "      <td>21.500000</td>\n",
       "      <td>37.300000</td>\n",
       "    </tr>\n",
       "    <tr>\n",
       "      <th>min</th>\n",
       "      <td>41.0</td>\n",
       "      <td>1.3</td>\n",
       "      <td>1.0</td>\n",
       "      <td>0.00003</td>\n",
       "      <td>0.000064</td>\n",
       "      <td>0.000016</td>\n",
       "      <td>0.000063</td>\n",
       "    </tr>\n",
       "    <tr>\n",
       "      <th>lower_quartile</th>\n",
       "      <td>95.0</td>\n",
       "      <td>5.8</td>\n",
       "      <td>18.0</td>\n",
       "      <td>6.00000</td>\n",
       "      <td>4.100000</td>\n",
       "      <td>2.900000</td>\n",
       "      <td>0.200000</td>\n",
       "    </tr>\n",
       "    <tr>\n",
       "      <th>median</th>\n",
       "      <td>105.0</td>\n",
       "      <td>6.5</td>\n",
       "      <td>50.0</td>\n",
       "      <td>20.00000</td>\n",
       "      <td>23.000000</td>\n",
       "      <td>23.800000</td>\n",
       "      <td>5.300000</td>\n",
       "    </tr>\n",
       "    <tr>\n",
       "      <th>upper_quartile</th>\n",
       "      <td>118.0</td>\n",
       "      <td>7.2</td>\n",
       "      <td>133.0</td>\n",
       "      <td>46.20000</td>\n",
       "      <td>57.500000</td>\n",
       "      <td>89.000000</td>\n",
       "      <td>14.700000</td>\n",
       "    </tr>\n",
       "    <tr>\n",
       "      <th>max</th>\n",
       "      <td>607.0</td>\n",
       "      <td>10.0</td>\n",
       "      <td>2800.0</td>\n",
       "      <td>30000.00000</td>\n",
       "      <td>936.662225</td>\n",
       "      <td>2923.706026</td>\n",
       "      <td>357.115007</td>\n",
       "    </tr>\n",
       "  </tbody>\n",
       "</table>\n",
       "</div>"
      ],
      "text/plain": [
       "                Runtime (Minutes)  Rating (Out of 10)  \\\n",
       "missing_ratio                 1.8                 3.0   \n",
       "min                          41.0                 1.3   \n",
       "lower_quartile               95.0                 5.8   \n",
       "median                      105.0                 6.5   \n",
       "upper_quartile              118.0                 7.2   \n",
       "max                         607.0                10.0   \n",
       "\n",
       "                Number of Ratings (in thousands)  Budget (in milions)  \\\n",
       "missing_ratio                                3.0             35.30000   \n",
       "min                                          1.0              0.00003   \n",
       "lower_quartile                              18.0              6.00000   \n",
       "median                                      50.0             20.00000   \n",
       "upper_quartile                             133.0             46.20000   \n",
       "max                                       2800.0          30000.00000   \n",
       "\n",
       "                Gross in US & Canada (in milions)  \\\n",
       "missing_ratio                           33.200000   \n",
       "min                                      0.000064   \n",
       "lower_quartile                           4.100000   \n",
       "median                                  23.000000   \n",
       "upper_quartile                          57.500000   \n",
       "max                                    936.662225   \n",
       "\n",
       "                Gross worldwide (in milions)  \\\n",
       "missing_ratio                      21.500000   \n",
       "min                                 0.000016   \n",
       "lower_quartile                      2.900000   \n",
       "median                             23.800000   \n",
       "upper_quartile                     89.000000   \n",
       "max                              2923.706026   \n",
       "\n",
       "                Opening Weekend Gross in US & Canada (in milions)  \n",
       "missing_ratio                                           37.300000  \n",
       "min                                                      0.000063  \n",
       "lower_quartile                                           0.200000  \n",
       "median                                                   5.300000  \n",
       "upper_quartile                                          14.700000  \n",
       "max                                                    357.115007  "
      ]
     },
     "execution_count": 148,
     "metadata": {},
     "output_type": "execute_result"
    }
   ],
   "source": [
    "def missing_ratio(df : pd.Series):\n",
    "    return (df.isnull().sum() * 100 / len(raw_df)).round(1)\n",
    "def lower_quartile(df : pd.Series):\n",
    "    return (df.quantile(q = 0.25)).round(1)\n",
    "def median(df : pd.Series):\n",
    "    return (df.quantile(q = 0.5)).round(1)\n",
    "def upper_quartile(df : pd.Series):\n",
    "    return (df.quantile(q = 0.75)).round(1)\n",
    "\n",
    "num_col_info_df = raw_df.select_dtypes(exclude = 'object')\n",
    "num_col_info_df = num_col_info_df.agg([missing_ratio, \"min\", lower_quartile, median, upper_quartile, \"max\"])\n",
    "num_col_info_df"
   ]
  },
  {
   "cell_type": "code",
   "execution_count": 149,
   "metadata": {},
   "outputs": [],
   "source": [
    "# Visualize (OPTIONAL)"
   ]
  },
  {
   "cell_type": "code",
   "execution_count": 150,
   "metadata": {},
   "outputs": [
    {
     "data": {
      "text/plain": [
       "{'Runtime (Minutes)': 1.8,\n",
       " 'Rating (Out of 10)': 3.0,\n",
       " 'Number of Ratings (in thousands)': 3.0,\n",
       " 'Budget (in milions)': 35.3,\n",
       " 'Gross in US & Canada (in milions)': 33.2,\n",
       " 'Gross worldwide (in milions)': 21.5,\n",
       " 'Opening Weekend Gross in US & Canada (in milions)': 37.3}"
      ]
     },
     "execution_count": 150,
     "metadata": {},
     "output_type": "execute_result"
    }
   ],
   "source": [
    "dict(num_col_info_df.iloc[0])"
   ]
  },
  {
   "cell_type": "markdown",
   "metadata": {},
   "source": [
    "After identifying the basic statistical numbers that describe my data, I further need to determine the features that have a large number of missing values. Such features are not useful for the analysis stage and must be removed from the dataset.\n",
    "\n",
    "Depending on my goals, the threshold for \"large\" can be defined. Usually, if the percentage of missing values is greater than 50%, the column is dropped from the dataframe and an updated dataframe is returned."
   ]
  },
  {
   "cell_type": "code",
   "execution_count": 151,
   "metadata": {},
   "outputs": [],
   "source": [
    "def drop_missing_features(df: pd.DataFrame, missing_lst: dict = dict(num_col_info_df.iloc[0]), threshold: float = 50.0) -> pd.DataFrame:\n",
    "    for col in df.columns:\n",
    "        if df[col].dtype != np.float64 or df[col].dtype != np.float32:\n",
    "            continue\n",
    "        elif missing_lst[col] > threshold:\n",
    "            df = df.drop(col, axis = 1)\n",
    "    return df"
   ]
  },
  {
   "cell_type": "code",
   "execution_count": 152,
   "metadata": {},
   "outputs": [],
   "source": [
    "raw_df = drop_missing_features(raw_df)"
   ]
  },
  {
   "cell_type": "code",
   "execution_count": 153,
   "metadata": {},
   "outputs": [
    {
     "data": {
      "text/html": [
       "<div>\n",
       "<style scoped>\n",
       "    .dataframe tbody tr th:only-of-type {\n",
       "        vertical-align: middle;\n",
       "    }\n",
       "\n",
       "    .dataframe tbody tr th {\n",
       "        vertical-align: top;\n",
       "    }\n",
       "\n",
       "    .dataframe thead th {\n",
       "        text-align: right;\n",
       "    }\n",
       "</style>\n",
       "<table border=\"1\" class=\"dataframe\">\n",
       "  <thead>\n",
       "    <tr style=\"text-align: right;\">\n",
       "      <th></th>\n",
       "      <th>Title</th>\n",
       "      <th>Summary</th>\n",
       "      <th>Director</th>\n",
       "      <th>Writer</th>\n",
       "      <th>Main Genres</th>\n",
       "      <th>Motion Picture Rating</th>\n",
       "      <th>Runtime (Minutes)</th>\n",
       "      <th>Release Year</th>\n",
       "      <th>Rating (Out of 10)</th>\n",
       "      <th>Number of Ratings (in thousands)</th>\n",
       "      <th>Budget (in milions)</th>\n",
       "      <th>Gross in US &amp; Canada (in milions)</th>\n",
       "      <th>Gross worldwide (in milions)</th>\n",
       "      <th>Opening Weekend Gross in US &amp; Canada (in milions)</th>\n",
       "    </tr>\n",
       "  </thead>\n",
       "  <tbody>\n",
       "    <tr>\n",
       "      <th>0</th>\n",
       "      <td>Napoleon</td>\n",
       "      <td>An epic that details the checkered rise and fa...</td>\n",
       "      <td>Ridley Scott</td>\n",
       "      <td>David Scarpa</td>\n",
       "      <td>Action,Adventure,Biography</td>\n",
       "      <td>R</td>\n",
       "      <td>158.0</td>\n",
       "      <td>2023.0</td>\n",
       "      <td>6.7</td>\n",
       "      <td>38.0</td>\n",
       "      <td>NaN</td>\n",
       "      <td>37.514498</td>\n",
       "      <td>84.968381</td>\n",
       "      <td>20.638887</td>\n",
       "    </tr>\n",
       "    <tr>\n",
       "      <th>1</th>\n",
       "      <td>The Hunger Games: The Ballad of Songbirds &amp; Sn...</td>\n",
       "      <td>Coriolanus Snow mentors and develops feelings ...</td>\n",
       "      <td>Francis Lawrence</td>\n",
       "      <td>Michael Lesslie,Michael Arndt,Suzanne Collins</td>\n",
       "      <td>Action,Adventure,Drama</td>\n",
       "      <td>PG-13</td>\n",
       "      <td>157.0</td>\n",
       "      <td>2023.0</td>\n",
       "      <td>7.2</td>\n",
       "      <td>37.0</td>\n",
       "      <td>100.0</td>\n",
       "      <td>105.043414</td>\n",
       "      <td>191.729235</td>\n",
       "      <td>44.607143</td>\n",
       "    </tr>\n",
       "    <tr>\n",
       "      <th>2</th>\n",
       "      <td>The Killer</td>\n",
       "      <td>After a fateful near-miss, an assassin battles...</td>\n",
       "      <td>David Fincher</td>\n",
       "      <td>Andrew Kevin Walker,Luc Jacamon,Alexis Nolent</td>\n",
       "      <td>Action,Adventure,Crime</td>\n",
       "      <td>R</td>\n",
       "      <td>118.0</td>\n",
       "      <td>2023.0</td>\n",
       "      <td>6.8</td>\n",
       "      <td>117.0</td>\n",
       "      <td>NaN</td>\n",
       "      <td>NaN</td>\n",
       "      <td>0.421332</td>\n",
       "      <td>NaN</td>\n",
       "    </tr>\n",
       "    <tr>\n",
       "      <th>3</th>\n",
       "      <td>Leo</td>\n",
       "      <td>A 74-year-old lizard named Leo and his turtle ...</td>\n",
       "      <td>David Wachtenheim,Robert Smigel,Robert Marianetti</td>\n",
       "      <td>Paul Sado,Robert Smigel,Adam Sandler</td>\n",
       "      <td>Animation,Comedy,Family</td>\n",
       "      <td>PG</td>\n",
       "      <td>102.0</td>\n",
       "      <td>2023.0</td>\n",
       "      <td>7.0</td>\n",
       "      <td>10.0</td>\n",
       "      <td>NaN</td>\n",
       "      <td>NaN</td>\n",
       "      <td>NaN</td>\n",
       "      <td>NaN</td>\n",
       "    </tr>\n",
       "    <tr>\n",
       "      <th>4</th>\n",
       "      <td>Thanksgiving</td>\n",
       "      <td>After a Black Friday riot ends in tragedy, a m...</td>\n",
       "      <td>Eli Roth</td>\n",
       "      <td>Eli Roth,Jeff Rendell</td>\n",
       "      <td>Horror,Mystery,Thriller</td>\n",
       "      <td>R</td>\n",
       "      <td>106.0</td>\n",
       "      <td>2023.0</td>\n",
       "      <td>7.0</td>\n",
       "      <td>9.1</td>\n",
       "      <td>NaN</td>\n",
       "      <td>25.408677</td>\n",
       "      <td>29.666585</td>\n",
       "      <td>10.306272</td>\n",
       "    </tr>\n",
       "  </tbody>\n",
       "</table>\n",
       "</div>"
      ],
      "text/plain": [
       "                                               Title  \\\n",
       "0                                           Napoleon   \n",
       "1  The Hunger Games: The Ballad of Songbirds & Sn...   \n",
       "2                                         The Killer   \n",
       "3                                                Leo   \n",
       "4                                       Thanksgiving   \n",
       "\n",
       "                                             Summary  \\\n",
       "0  An epic that details the checkered rise and fa...   \n",
       "1  Coriolanus Snow mentors and develops feelings ...   \n",
       "2  After a fateful near-miss, an assassin battles...   \n",
       "3  A 74-year-old lizard named Leo and his turtle ...   \n",
       "4  After a Black Friday riot ends in tragedy, a m...   \n",
       "\n",
       "                                            Director  \\\n",
       "0                                       Ridley Scott   \n",
       "1                                   Francis Lawrence   \n",
       "2                                      David Fincher   \n",
       "3  David Wachtenheim,Robert Smigel,Robert Marianetti   \n",
       "4                                           Eli Roth   \n",
       "\n",
       "                                          Writer                 Main Genres  \\\n",
       "0                                   David Scarpa  Action,Adventure,Biography   \n",
       "1  Michael Lesslie,Michael Arndt,Suzanne Collins      Action,Adventure,Drama   \n",
       "2  Andrew Kevin Walker,Luc Jacamon,Alexis Nolent      Action,Adventure,Crime   \n",
       "3           Paul Sado,Robert Smigel,Adam Sandler     Animation,Comedy,Family   \n",
       "4                          Eli Roth,Jeff Rendell     Horror,Mystery,Thriller   \n",
       "\n",
       "  Motion Picture Rating  Runtime (Minutes) Release Year  Rating (Out of 10)  \\\n",
       "0                     R              158.0       2023.0                 6.7   \n",
       "1                 PG-13              157.0       2023.0                 7.2   \n",
       "2                     R              118.0       2023.0                 6.8   \n",
       "3                    PG              102.0       2023.0                 7.0   \n",
       "4                     R              106.0       2023.0                 7.0   \n",
       "\n",
       "   Number of Ratings (in thousands)  Budget (in milions)  \\\n",
       "0                              38.0                  NaN   \n",
       "1                              37.0                100.0   \n",
       "2                             117.0                  NaN   \n",
       "3                              10.0                  NaN   \n",
       "4                               9.1                  NaN   \n",
       "\n",
       "   Gross in US & Canada (in milions)  Gross worldwide (in milions)  \\\n",
       "0                          37.514498                     84.968381   \n",
       "1                         105.043414                    191.729235   \n",
       "2                                NaN                      0.421332   \n",
       "3                                NaN                           NaN   \n",
       "4                          25.408677                     29.666585   \n",
       "\n",
       "   Opening Weekend Gross in US & Canada (in milions)  \n",
       "0                                          20.638887  \n",
       "1                                          44.607143  \n",
       "2                                                NaN  \n",
       "3                                                NaN  \n",
       "4                                          10.306272  "
      ]
     },
     "execution_count": 153,
     "metadata": {},
     "output_type": "execute_result"
    }
   ],
   "source": [
    "# TEST\n",
    "raw_df.head()"
   ]
  },
  {
   "cell_type": "markdown",
   "metadata": {},
   "source": [
    "After remove features which have large missing values, our dataframe still have missing values. So that, we need to fill these missing values so that they can be used in analysis."
   ]
  },
  {
   "cell_type": "code",
   "execution_count": 154,
   "metadata": {},
   "outputs": [],
   "source": [
    "def filling_missing_value(df: pd.DataFrame) -> pd.DataFrame:\n",
    "    for col in df.columns:\n",
    "        for value in df[col]:\n",
    "            if value is None:\n",
    "                value = np.NaN\n",
    "    for col in df.select_dtypes(include = 'number').columns:\n",
    "        mean = df[col].mean().round(1)\n",
    "        df[col] = df[col].fillna(mean)\n",
    "    return df"
   ]
  },
  {
   "cell_type": "code",
   "execution_count": 155,
   "metadata": {},
   "outputs": [],
   "source": [
    "raw_df = filling_missing_value(raw_df)"
   ]
  },
  {
   "cell_type": "code",
   "execution_count": 156,
   "metadata": {},
   "outputs": [
    {
     "data": {
      "text/html": [
       "<div>\n",
       "<style scoped>\n",
       "    .dataframe tbody tr th:only-of-type {\n",
       "        vertical-align: middle;\n",
       "    }\n",
       "\n",
       "    .dataframe tbody tr th {\n",
       "        vertical-align: top;\n",
       "    }\n",
       "\n",
       "    .dataframe thead th {\n",
       "        text-align: right;\n",
       "    }\n",
       "</style>\n",
       "<table border=\"1\" class=\"dataframe\">\n",
       "  <thead>\n",
       "    <tr style=\"text-align: right;\">\n",
       "      <th></th>\n",
       "      <th>Title</th>\n",
       "      <th>Summary</th>\n",
       "      <th>Director</th>\n",
       "      <th>Writer</th>\n",
       "      <th>Main Genres</th>\n",
       "      <th>Motion Picture Rating</th>\n",
       "      <th>Runtime (Minutes)</th>\n",
       "      <th>Release Year</th>\n",
       "      <th>Rating (Out of 10)</th>\n",
       "      <th>Number of Ratings (in thousands)</th>\n",
       "      <th>Budget (in milions)</th>\n",
       "      <th>Gross in US &amp; Canada (in milions)</th>\n",
       "      <th>Gross worldwide (in milions)</th>\n",
       "      <th>Opening Weekend Gross in US &amp; Canada (in milions)</th>\n",
       "    </tr>\n",
       "  </thead>\n",
       "  <tbody>\n",
       "    <tr>\n",
       "      <th>0</th>\n",
       "      <td>Napoleon</td>\n",
       "      <td>An epic that details the checkered rise and fa...</td>\n",
       "      <td>Ridley Scott</td>\n",
       "      <td>David Scarpa</td>\n",
       "      <td>Action,Adventure,Biography</td>\n",
       "      <td>R</td>\n",
       "      <td>158.0</td>\n",
       "      <td>2023.0</td>\n",
       "      <td>6.7</td>\n",
       "      <td>38.0</td>\n",
       "      <td>67.8</td>\n",
       "      <td>37.514498</td>\n",
       "      <td>84.968381</td>\n",
       "      <td>20.638887</td>\n",
       "    </tr>\n",
       "    <tr>\n",
       "      <th>1</th>\n",
       "      <td>The Hunger Games: The Ballad of Songbirds &amp; Sn...</td>\n",
       "      <td>Coriolanus Snow mentors and develops feelings ...</td>\n",
       "      <td>Francis Lawrence</td>\n",
       "      <td>Michael Lesslie,Michael Arndt,Suzanne Collins</td>\n",
       "      <td>Action,Adventure,Drama</td>\n",
       "      <td>PG-13</td>\n",
       "      <td>157.0</td>\n",
       "      <td>2023.0</td>\n",
       "      <td>7.2</td>\n",
       "      <td>37.0</td>\n",
       "      <td>100.0</td>\n",
       "      <td>105.043414</td>\n",
       "      <td>191.729235</td>\n",
       "      <td>44.607143</td>\n",
       "    </tr>\n",
       "    <tr>\n",
       "      <th>2</th>\n",
       "      <td>The Killer</td>\n",
       "      <td>After a fateful near-miss, an assassin battles...</td>\n",
       "      <td>David Fincher</td>\n",
       "      <td>Andrew Kevin Walker,Luc Jacamon,Alexis Nolent</td>\n",
       "      <td>Action,Adventure,Crime</td>\n",
       "      <td>R</td>\n",
       "      <td>118.0</td>\n",
       "      <td>2023.0</td>\n",
       "      <td>6.8</td>\n",
       "      <td>117.0</td>\n",
       "      <td>67.8</td>\n",
       "      <td>46.800000</td>\n",
       "      <td>0.421332</td>\n",
       "      <td>12.500000</td>\n",
       "    </tr>\n",
       "    <tr>\n",
       "      <th>3</th>\n",
       "      <td>Leo</td>\n",
       "      <td>A 74-year-old lizard named Leo and his turtle ...</td>\n",
       "      <td>David Wachtenheim,Robert Smigel,Robert Marianetti</td>\n",
       "      <td>Paul Sado,Robert Smigel,Adam Sandler</td>\n",
       "      <td>Animation,Comedy,Family</td>\n",
       "      <td>PG</td>\n",
       "      <td>102.0</td>\n",
       "      <td>2023.0</td>\n",
       "      <td>7.0</td>\n",
       "      <td>10.0</td>\n",
       "      <td>67.8</td>\n",
       "      <td>46.800000</td>\n",
       "      <td>87.100000</td>\n",
       "      <td>12.500000</td>\n",
       "    </tr>\n",
       "    <tr>\n",
       "      <th>4</th>\n",
       "      <td>Thanksgiving</td>\n",
       "      <td>After a Black Friday riot ends in tragedy, a m...</td>\n",
       "      <td>Eli Roth</td>\n",
       "      <td>Eli Roth,Jeff Rendell</td>\n",
       "      <td>Horror,Mystery,Thriller</td>\n",
       "      <td>R</td>\n",
       "      <td>106.0</td>\n",
       "      <td>2023.0</td>\n",
       "      <td>7.0</td>\n",
       "      <td>9.1</td>\n",
       "      <td>67.8</td>\n",
       "      <td>25.408677</td>\n",
       "      <td>29.666585</td>\n",
       "      <td>10.306272</td>\n",
       "    </tr>\n",
       "  </tbody>\n",
       "</table>\n",
       "</div>"
      ],
      "text/plain": [
       "                                               Title  \\\n",
       "0                                           Napoleon   \n",
       "1  The Hunger Games: The Ballad of Songbirds & Sn...   \n",
       "2                                         The Killer   \n",
       "3                                                Leo   \n",
       "4                                       Thanksgiving   \n",
       "\n",
       "                                             Summary  \\\n",
       "0  An epic that details the checkered rise and fa...   \n",
       "1  Coriolanus Snow mentors and develops feelings ...   \n",
       "2  After a fateful near-miss, an assassin battles...   \n",
       "3  A 74-year-old lizard named Leo and his turtle ...   \n",
       "4  After a Black Friday riot ends in tragedy, a m...   \n",
       "\n",
       "                                            Director  \\\n",
       "0                                       Ridley Scott   \n",
       "1                                   Francis Lawrence   \n",
       "2                                      David Fincher   \n",
       "3  David Wachtenheim,Robert Smigel,Robert Marianetti   \n",
       "4                                           Eli Roth   \n",
       "\n",
       "                                          Writer                 Main Genres  \\\n",
       "0                                   David Scarpa  Action,Adventure,Biography   \n",
       "1  Michael Lesslie,Michael Arndt,Suzanne Collins      Action,Adventure,Drama   \n",
       "2  Andrew Kevin Walker,Luc Jacamon,Alexis Nolent      Action,Adventure,Crime   \n",
       "3           Paul Sado,Robert Smigel,Adam Sandler     Animation,Comedy,Family   \n",
       "4                          Eli Roth,Jeff Rendell     Horror,Mystery,Thriller   \n",
       "\n",
       "  Motion Picture Rating  Runtime (Minutes) Release Year  Rating (Out of 10)  \\\n",
       "0                     R              158.0       2023.0                 6.7   \n",
       "1                 PG-13              157.0       2023.0                 7.2   \n",
       "2                     R              118.0       2023.0                 6.8   \n",
       "3                    PG              102.0       2023.0                 7.0   \n",
       "4                     R              106.0       2023.0                 7.0   \n",
       "\n",
       "   Number of Ratings (in thousands)  Budget (in milions)  \\\n",
       "0                              38.0                 67.8   \n",
       "1                              37.0                100.0   \n",
       "2                             117.0                 67.8   \n",
       "3                              10.0                 67.8   \n",
       "4                               9.1                 67.8   \n",
       "\n",
       "   Gross in US & Canada (in milions)  Gross worldwide (in milions)  \\\n",
       "0                          37.514498                     84.968381   \n",
       "1                         105.043414                    191.729235   \n",
       "2                          46.800000                      0.421332   \n",
       "3                          46.800000                     87.100000   \n",
       "4                          25.408677                     29.666585   \n",
       "\n",
       "   Opening Weekend Gross in US & Canada (in milions)  \n",
       "0                                          20.638887  \n",
       "1                                          44.607143  \n",
       "2                                          12.500000  \n",
       "3                                          12.500000  \n",
       "4                                          10.306272  "
      ]
     },
     "execution_count": 156,
     "metadata": {},
     "output_type": "execute_result"
    }
   ],
   "source": [
    "# TEST\n",
    "raw_df.head()"
   ]
  },
  {
   "cell_type": "code",
   "execution_count": 157,
   "metadata": {},
   "outputs": [
    {
     "data": {
      "text/html": [
       "<div>\n",
       "<style scoped>\n",
       "    .dataframe tbody tr th:only-of-type {\n",
       "        vertical-align: middle;\n",
       "    }\n",
       "\n",
       "    .dataframe tbody tr th {\n",
       "        vertical-align: top;\n",
       "    }\n",
       "\n",
       "    .dataframe thead th {\n",
       "        text-align: right;\n",
       "    }\n",
       "</style>\n",
       "<table border=\"1\" class=\"dataframe\">\n",
       "  <thead>\n",
       "    <tr style=\"text-align: right;\">\n",
       "      <th></th>\n",
       "      <th>Runtime (Minutes)</th>\n",
       "      <th>Rating (Out of 10)</th>\n",
       "      <th>Number of Ratings (in thousands)</th>\n",
       "      <th>Budget (in milions)</th>\n",
       "      <th>Gross in US &amp; Canada (in milions)</th>\n",
       "      <th>Gross worldwide (in milions)</th>\n",
       "      <th>Opening Weekend Gross in US &amp; Canada (in milions)</th>\n",
       "    </tr>\n",
       "  </thead>\n",
       "  <tbody>\n",
       "    <tr>\n",
       "      <th>missing_ratio</th>\n",
       "      <td>0.0</td>\n",
       "      <td>0.0</td>\n",
       "      <td>0.0</td>\n",
       "      <td>0.00000</td>\n",
       "      <td>0.000000</td>\n",
       "      <td>0.000000</td>\n",
       "      <td>0.000000</td>\n",
       "    </tr>\n",
       "    <tr>\n",
       "      <th>min</th>\n",
       "      <td>41.0</td>\n",
       "      <td>1.3</td>\n",
       "      <td>1.0</td>\n",
       "      <td>0.00003</td>\n",
       "      <td>0.000064</td>\n",
       "      <td>0.000016</td>\n",
       "      <td>0.000063</td>\n",
       "    </tr>\n",
       "    <tr>\n",
       "      <th>lower_quartile</th>\n",
       "      <td>95.0</td>\n",
       "      <td>5.9</td>\n",
       "      <td>18.0</td>\n",
       "      <td>13.00000</td>\n",
       "      <td>12.400000</td>\n",
       "      <td>6.400000</td>\n",
       "      <td>2.600000</td>\n",
       "    </tr>\n",
       "    <tr>\n",
       "      <th>median</th>\n",
       "      <td>105.0</td>\n",
       "      <td>6.5</td>\n",
       "      <td>52.0</td>\n",
       "      <td>50.00000</td>\n",
       "      <td>46.800000</td>\n",
       "      <td>48.500000</td>\n",
       "      <td>12.500000</td>\n",
       "    </tr>\n",
       "    <tr>\n",
       "      <th>upper_quartile</th>\n",
       "      <td>118.0</td>\n",
       "      <td>7.2</td>\n",
       "      <td>128.0</td>\n",
       "      <td>67.80000</td>\n",
       "      <td>46.800000</td>\n",
       "      <td>87.100000</td>\n",
       "      <td>12.500000</td>\n",
       "    </tr>\n",
       "    <tr>\n",
       "      <th>max</th>\n",
       "      <td>607.0</td>\n",
       "      <td>10.0</td>\n",
       "      <td>2800.0</td>\n",
       "      <td>30000.00000</td>\n",
       "      <td>936.662225</td>\n",
       "      <td>2923.706026</td>\n",
       "      <td>357.115007</td>\n",
       "    </tr>\n",
       "  </tbody>\n",
       "</table>\n",
       "</div>"
      ],
      "text/plain": [
       "                Runtime (Minutes)  Rating (Out of 10)  \\\n",
       "missing_ratio                 0.0                 0.0   \n",
       "min                          41.0                 1.3   \n",
       "lower_quartile               95.0                 5.9   \n",
       "median                      105.0                 6.5   \n",
       "upper_quartile              118.0                 7.2   \n",
       "max                         607.0                10.0   \n",
       "\n",
       "                Number of Ratings (in thousands)  Budget (in milions)  \\\n",
       "missing_ratio                                0.0              0.00000   \n",
       "min                                          1.0              0.00003   \n",
       "lower_quartile                              18.0             13.00000   \n",
       "median                                      52.0             50.00000   \n",
       "upper_quartile                             128.0             67.80000   \n",
       "max                                       2800.0          30000.00000   \n",
       "\n",
       "                Gross in US & Canada (in milions)  \\\n",
       "missing_ratio                            0.000000   \n",
       "min                                      0.000064   \n",
       "lower_quartile                          12.400000   \n",
       "median                                  46.800000   \n",
       "upper_quartile                          46.800000   \n",
       "max                                    936.662225   \n",
       "\n",
       "                Gross worldwide (in milions)  \\\n",
       "missing_ratio                       0.000000   \n",
       "min                                 0.000016   \n",
       "lower_quartile                      6.400000   \n",
       "median                             48.500000   \n",
       "upper_quartile                     87.100000   \n",
       "max                              2923.706026   \n",
       "\n",
       "                Opening Weekend Gross in US & Canada (in milions)  \n",
       "missing_ratio                                            0.000000  \n",
       "min                                                      0.000063  \n",
       "lower_quartile                                           2.600000  \n",
       "median                                                  12.500000  \n",
       "upper_quartile                                          12.500000  \n",
       "max                                                    357.115007  "
      ]
     },
     "execution_count": 157,
     "metadata": {},
     "output_type": "execute_result"
    }
   ],
   "source": [
    "# TEST\n",
    "raw_df.select_dtypes(exclude='object').agg([missing_ratio, \"min\", lower_quartile, median, upper_quartile, \"max\"])"
   ]
  },
  {
   "cell_type": "markdown",
   "metadata": {},
   "source": [
    "### For each column with a non-numeric data type, how are the values distributed?"
   ]
  },
  {
   "cell_type": "markdown",
   "metadata": {},
   "source": [
    "For columns with non-numeric data types, I calculate:\n",
    "- Percentage (from 0 to 100) of missing values\n",
    "- Number of values (the values here are different values and we do not consider missing values): with columns whose type is categorical, it is a set with a finite number of categories. Directly counting the number of values in these columns doesn't make much sense, so it's better to count the number of elements of all types.\n",
    "- The percentage (from 0 to 100) of each value is sorted by decreasing percentage (we do not consider missing values, the ratio is the ratio compared to the number of non-missing values): you use a dictionary to store , key is the value, value is the percentage; With the column corresponding to each type, the method is similar to above.\n",
    "\n",
    "I will save the results to DataFrame `cat_col_info_df`, where:\n",
    "- The names of the columns are the names of the non-numeric columns in `raw_df`\n",
    "- The names of the lines are: \"missing_ratio\", \"num_values\", \"value_ratios\"\n",
    "\n",
    "For ease of viewing, I round all values to 3 decimal place using the `.round(3)` method."
   ]
  },
  {
   "cell_type": "code",
   "execution_count": 158,
   "metadata": {},
   "outputs": [],
   "source": [
    "pd.set_option('display.max_colwidth', 100) # For clearly\n",
    "pd.set_option('display.max_columns', None) # For clearly"
   ]
  },
  {
   "cell_type": "code",
   "execution_count": 159,
   "metadata": {},
   "outputs": [
    {
     "data": {
      "text/html": [
       "<div>\n",
       "<style scoped>\n",
       "    .dataframe tbody tr th:only-of-type {\n",
       "        vertical-align: middle;\n",
       "    }\n",
       "\n",
       "    .dataframe tbody tr th {\n",
       "        vertical-align: top;\n",
       "    }\n",
       "\n",
       "    .dataframe thead th {\n",
       "        text-align: right;\n",
       "    }\n",
       "</style>\n",
       "<table border=\"1\" class=\"dataframe\">\n",
       "  <thead>\n",
       "    <tr style=\"text-align: right;\">\n",
       "      <th></th>\n",
       "      <th>Title</th>\n",
       "      <th>Summary</th>\n",
       "      <th>Director</th>\n",
       "      <th>Writer</th>\n",
       "      <th>Main Genres</th>\n",
       "      <th>Motion Picture Rating</th>\n",
       "      <th>Release Year</th>\n",
       "    </tr>\n",
       "  </thead>\n",
       "  <tbody>\n",
       "    <tr>\n",
       "      <th>missing_ratio</th>\n",
       "      <td>0.0</td>\n",
       "      <td>0.0</td>\n",
       "      <td>0.3</td>\n",
       "      <td>3.6</td>\n",
       "      <td>0.1</td>\n",
       "      <td>8.8</td>\n",
       "      <td>0.0</td>\n",
       "    </tr>\n",
       "    <tr>\n",
       "      <th>num_values</th>\n",
       "      <td>8728</td>\n",
       "      <td>9051</td>\n",
       "      <td>4364</td>\n",
       "      <td>7854</td>\n",
       "      <td>461</td>\n",
       "      <td>26</td>\n",
       "      <td>107</td>\n",
       "    </tr>\n",
       "    <tr>\n",
       "      <th>value_ratios</th>\n",
       "      <td>{'The Killer': 0.044, 'The Three Musketeers': 0.044, 'The Vanishing': 0.033, 'Fantastic Four': 0...</td>\n",
       "      <td>{'Plot under wraps.': 0.187, 'Plot under wraps': 0.077, 'Plot kept under wraps.': 0.055, 'The pl...</td>\n",
       "      <td>{'Steven Spielberg': 0.363, 'Clint Eastwood': 0.341, 'Martin Scorsese': 0.319, 'Ridley Scott': 0...</td>\n",
       "      <td>{'John Hughes': 0.187, 'Woody Allen': 0.176, 'Kevin Smith': 0.132, 'M. Night Shyamalan': 0.099, ...</td>\n",
       "      <td>{'Drama': 4.668, 'Comedy,Drama,Romance': 3.666, 'Drama,Romance': 3.435, 'Comedy': 2.984, 'Comedy...</td>\n",
       "      <td>{'R': 38.622, 'PG-13': 21.381, 'PG': 12.639, 'Not Rated': 6.595, 'TV-MA': 2.664, 'G': 2.345, 'Ap...</td>\n",
       "      <td>{'2023.0': 9.677, '2022.0': 6.143, '2021.0': 3.743, '2018.0': 3.413, '2019.0': 3.325, '2017.0': ...</td>\n",
       "    </tr>\n",
       "  </tbody>\n",
       "</table>\n",
       "</div>"
      ],
      "text/plain": [
       "                                                                                                             Title  \\\n",
       "missing_ratio                                                                                                  0.0   \n",
       "num_values                                                                                                    8728   \n",
       "value_ratios   {'The Killer': 0.044, 'The Three Musketeers': 0.044, 'The Vanishing': 0.033, 'Fantastic Four': 0...   \n",
       "\n",
       "                                                                                                           Summary  \\\n",
       "missing_ratio                                                                                                  0.0   \n",
       "num_values                                                                                                    9051   \n",
       "value_ratios   {'Plot under wraps.': 0.187, 'Plot under wraps': 0.077, 'Plot kept under wraps.': 0.055, 'The pl...   \n",
       "\n",
       "                                                                                                          Director  \\\n",
       "missing_ratio                                                                                                  0.3   \n",
       "num_values                                                                                                    4364   \n",
       "value_ratios   {'Steven Spielberg': 0.363, 'Clint Eastwood': 0.341, 'Martin Scorsese': 0.319, 'Ridley Scott': 0...   \n",
       "\n",
       "                                                                                                            Writer  \\\n",
       "missing_ratio                                                                                                  3.6   \n",
       "num_values                                                                                                    7854   \n",
       "value_ratios   {'John Hughes': 0.187, 'Woody Allen': 0.176, 'Kevin Smith': 0.132, 'M. Night Shyamalan': 0.099, ...   \n",
       "\n",
       "                                                                                                       Main Genres  \\\n",
       "missing_ratio                                                                                                  0.1   \n",
       "num_values                                                                                                     461   \n",
       "value_ratios   {'Drama': 4.668, 'Comedy,Drama,Romance': 3.666, 'Drama,Romance': 3.435, 'Comedy': 2.984, 'Comedy...   \n",
       "\n",
       "                                                                                             Motion Picture Rating  \\\n",
       "missing_ratio                                                                                                  8.8   \n",
       "num_values                                                                                                      26   \n",
       "value_ratios   {'R': 38.622, 'PG-13': 21.381, 'PG': 12.639, 'Not Rated': 6.595, 'TV-MA': 2.664, 'G': 2.345, 'Ap...   \n",
       "\n",
       "                                                                                                      Release Year  \n",
       "missing_ratio                                                                                                  0.0  \n",
       "num_values                                                                                                     107  \n",
       "value_ratios   {'2023.0': 9.677, '2022.0': 6.143, '2021.0': 3.743, '2018.0': 3.413, '2019.0': 3.325, '2017.0': ...  "
      ]
     },
     "execution_count": 159,
     "metadata": {},
     "output_type": "execute_result"
    }
   ],
   "source": [
    "cat_col_info_df = raw_df.select_dtypes(include = 'object')\n",
    "\n",
    "def num_values(ser : pd.Series):\n",
    "    return len(ser.unique())\n",
    "def value_ratios(ser : pd.Series) -> dict:\n",
    "    return (ser.value_counts(dropna = True) * 100 / len(ser)).round(3).to_dict()\n",
    "\n",
    "cat_col_info_df = cat_col_info_df.agg([missing_ratio, num_values, value_ratios])\n",
    "cat_col_info_df"
   ]
  },
  {
   "cell_type": "code",
   "execution_count": 160,
   "metadata": {},
   "outputs": [],
   "source": [
    "# Visualize (OPTIONAL)"
   ]
  },
  {
   "cell_type": "markdown",
   "metadata": {},
   "source": [
    "### Is the collected data reasonable?"
   ]
  },
  {
   "cell_type": "markdown",
   "metadata": {},
   "source": [
    "**Question 1**: Is there any value in the `Rating (Out of 10)` column that exceeds 10?"
   ]
  },
  {
   "cell_type": "code",
   "execution_count": 161,
   "metadata": {},
   "outputs": [],
   "source": [
    "def is_out_of_10(ser: pd.Series):\n",
    "    results = ser > 10\n",
    "    return results.value_counts()[False]"
   ]
  },
  {
   "cell_type": "code",
   "execution_count": 162,
   "metadata": {},
   "outputs": [],
   "source": [
    "# TEST\n",
    "assert is_out_of_10(raw_df['Rating (Out of 10)']) == len(raw_df)"
   ]
  },
  {
   "cell_type": "markdown",
   "metadata": {},
   "source": [
    "The test is True, so there is no value in `Rating (Out of 10)` column that exceeds 10. This column is reasonable."
   ]
  },
  {
   "cell_type": "markdown",
   "metadata": {},
   "source": [
    "**Question 2**: Ares`Gross in US & Canada (in milions)`'s values greateress th`Opening Weekend Gross in US & Canada (in milions)`'s valuesher?"
   ]
  },
  {
   "cell_type": "code",
   "execution_count": 163,
   "metadata": {},
   "outputs": [],
   "source": [
    "def checkout_gross(ser1: pd.Series, ser2: pd.Series):\n",
    "    result = ser1 >= ser2\n",
    "    return result.value_counts()[False]"
   ]
  },
  {
   "cell_type": "code",
   "execution_count": 164,
   "metadata": {},
   "outputs": [],
   "source": [
    "# TEST\n",
    "assert checkout_gross(raw_df['Gross in US & Canada (in milions)'], raw_df['Opening Weekend Gross in US & Canada (in milions)']) > 0"
   ]
  },
  {
   "cell_type": "markdown",
   "metadata": {},
   "source": [
    "### Save processed data"
   ]
  },
  {
   "cell_type": "code",
   "execution_count": 165,
   "metadata": {},
   "outputs": [
    {
     "name": "stdout",
     "output_type": "stream",
     "text": [
      "Total number of features: 14\n"
     ]
    },
    {
     "data": {
      "text/plain": [
       "Title                                                 object\n",
       "Summary                                               object\n",
       "Director                                              object\n",
       "Writer                                                object\n",
       "Main Genres                                           object\n",
       "Motion Picture Rating                                 object\n",
       "Runtime (Minutes)                                    float64\n",
       "Release Year                                          object\n",
       "Rating (Out of 10)                                   float64\n",
       "Number of Ratings (in thousands)                     float64\n",
       "Budget (in milions)                                  float64\n",
       "Gross in US & Canada (in milions)                    float64\n",
       "Gross worldwide (in milions)                         float64\n",
       "Opening Weekend Gross in US & Canada (in milions)    float64\n",
       "dtype: object"
      ]
     },
     "execution_count": 165,
     "metadata": {},
     "output_type": "execute_result"
    }
   ],
   "source": [
    "print(f\"Total number of features: {raw_df.shape[1]}\")\n",
    "raw_df.dtypes"
   ]
  },
  {
   "cell_type": "code",
   "execution_count": 166,
   "metadata": {},
   "outputs": [],
   "source": [
    "raw_df.to_csv(f\"../data/processed/IMDbMovies_processed.csv\", index = False)"
   ]
  }
 ],
 "metadata": {
  "kernelspec": {
   "display_name": "Python 3 (ipykernel)",
   "language": "python",
   "name": "python3"
  },
  "language_info": {
   "codemirror_mode": {
    "name": "ipython",
    "version": 3
   },
   "file_extension": ".py",
   "mimetype": "text/x-python",
   "name": "python",
   "nbconvert_exporter": "python",
   "pygments_lexer": "ipython3",
   "version": "3.11.4"
  }
 },
 "nbformat": 4,
 "nbformat_minor": 4
}
