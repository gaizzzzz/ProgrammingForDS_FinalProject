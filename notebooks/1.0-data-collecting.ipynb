{
 "cells": [
  {
   "cell_type": "markdown",
   "id": "acdf2c00-7429-42a9-80ab-e8c2a0a1afac",
   "metadata": {},
   "source": [
    "<div style=\"text-align: center; background-color: #559cff; font-family: 'Trebuchet MS', Arial, sans-serif; color: white; padding: 20px; font-size: 40px; font-weight: bold; border-radius: 0 0 0 0; box-shadow: 0px 6px 8px rgba(0, 0, 0, 0.2);\">\n",
    "  Final Project - Programming For Data Science @ FIT-HCMUS, VNU-HCM 📌\n",
    "</div>"
   ]
  },
  {
   "cell_type": "markdown",
   "id": "83adc799-0c9c-413c-b1d2-38b611724769",
   "metadata": {},
   "source": [
    "<div style=\"text-align: center; background-color: #b1d1ff; font-family: 'Trebuchet MS', Arial, sans-serif; color: white; padding: 20px; font-size: 40px; font-weight: bold; border-radius: 0 0 0 0; box-shadow: 0px 6px 8px rgba(0, 0, 0, 0.2);\">\n",
    "  Stage 01 - Data Collecting\n",
    "</div>"
   ]
  },
  {
   "cell_type": "markdown",
   "id": "75a93750-94a6-4d51-aa8c-c7031b5a0b57",
   "metadata": {},
   "source": [
    "The data we choose are movies and their features on the IMDb website (**https://www.imdb.com/**). Choosing a data analysis topic such as a movie on the IMDb website can bring many benefits and research opportunities. Link to get the dataset: **https://www.kaggle.com/datasets/elvinrustam/imdb-movies-dataset**\n",
    "- **Rich Data Collection Ability**: \n",
    "IMDb is one of the major sources of information about movies, with thousands of movies and detailed information about actors, directors, genres, revenues, and many other factors. Data from IMDb can provide a rich and diverse dataset for analysis.\n",
    "- **Market and Competitive Analysis**:\n",
    "Data from IMDb provides the opportunity to analyze the film market and competition between films. You can evaluate the performance of films, identify factors that determine success, and predict future trends.\n",
    "- **Understanding Audience Interests and Trends**:\n",
    "We can analyze audience preferences through their reviews, views, and opinions. A better understanding of popular trends can help filmmakers and film producers understand audience needs."
   ]
  }
 ],
 "metadata": {
  "kernelspec": {
   "display_name": "Python 3 (ipykernel)",
   "language": "python",
   "name": "python3"
  },
  "language_info": {
   "codemirror_mode": {
    "name": "ipython",
    "version": 3
   },
   "file_extension": ".py",
   "mimetype": "text/x-python",
   "name": "python",
   "nbconvert_exporter": "python",
   "pygments_lexer": "ipython3",
   "version": "3.11.4"
  }
 },
 "nbformat": 4,
 "nbformat_minor": 5
}
